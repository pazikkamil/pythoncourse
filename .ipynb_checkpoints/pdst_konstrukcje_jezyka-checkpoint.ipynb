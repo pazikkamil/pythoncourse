{
 "cells": [
  {
   "cell_type": "markdown",
   "metadata": {},
   "source": [
    "# 4 Podstawowe konstrukcje języka\n",
    "Pozwalają sterować wykonaniem programu\n",
    "## 4.1 Instrukcja warunkowa"
   ]
  },
  {
   "cell_type": "code",
   "execution_count": 3,
   "metadata": {
    "collapsed": false
   },
   "outputs": [
    {
     "name": "stdout",
     "output_type": "stream",
     "text": [
      "Zmienna a jest mniejsza\n"
     ]
    }
   ],
   "source": [
    "a = 3\n",
    "b = 4\n",
    "\n",
    "\n",
    "if a < b:\n",
    "    print('Zmienna a jest mniejsza')\n",
    "else:\n",
    "    print('Zmienna a jest mniejsza lub równa b')"
   ]
  },
  {
   "cell_type": "code",
   "execution_count": 9,
   "metadata": {
    "collapsed": false
   },
   "outputs": [
    {
     "name": "stdout",
     "output_type": "stream",
     "text": [
      "Zmienna a jest mniejsza\n"
     ]
    }
   ],
   "source": [
    "# częsty błąd pomylenie porównania z przypisaniem\n",
    "a = b - 1 \n",
    "\n",
    "if a < b:\n",
    "    print('Zmienna a jest mniejsza')\n",
    "elif a == b:\n",
    "    print('Zmienna a jest równa b')\n",
    "else:\n",
    "    print('Zmienna a jest większa b')\n",
    "    \n"
   ]
  },
  {
   "cell_type": "markdown",
   "metadata": {},
   "source": [
    "### BMI = waga / wzrost ^ 2 "
   ]
  },
  {
   "cell_type": "code",
   "execution_count": 17,
   "metadata": {
    "collapsed": false
   },
   "outputs": [
    {
     "name": "stdout",
     "output_type": "stream",
     "text": [
      "Kamil masz niedowage\n"
     ]
    }
   ],
   "source": [
    "waga = 30 \n",
    "wzrost = 1.8\n",
    "imie = 'Kamil'\n",
    "\n",
    "\n",
    "bmi = waga / wzrost ** 2\n",
    "\n",
    "if bmi >= 25:\n",
    "    print(imie + \" \" + \"masz nadwage, twoje BMI to: \" + str(round(bmi,2)))\n",
    "elif bmi < 18.5: \n",
    "    print(imie + \" \" + \"masz niedowage\")\n",
    "else:\n",
    "    print(\"Twoje BMI jest w normie\")"
   ]
  },
  {
   "cell_type": "code",
   "execution_count": 27,
   "metadata": {
    "collapsed": false
   },
   "outputs": [
    {
     "data": {
      "text/plain": [
       "True"
      ]
     },
     "execution_count": 27,
     "metadata": {},
     "output_type": "execute_result"
    }
   ],
   "source": [
    "czy_pada = False\n",
    "czy_tydzien_pracy = False\n",
    "czy_bankrut = False\n",
    "\n",
    "czy_fajnie = not czy_pada and not czy_tydzien_pracy and not czy_bankrut\n",
    "czy_fajnie"
   ]
  },
  {
   "cell_type": "code",
   "execution_count": 31,
   "metadata": {
    "collapsed": false
   },
   "outputs": [
    {
     "data": {
      "text/plain": [
       "True"
      ]
     },
     "execution_count": 31,
     "metadata": {},
     "output_type": "execute_result"
    }
   ],
   "source": [
    "czy_pada = False\n",
    "czy_tydzien_pracy = False\n",
    "czy_bankrut = False\n",
    "\n",
    "czy_fajnie = not (czy_pada or czy_tydzien_pracy or czy_bankrut)\n",
    "czy_fajnie"
   ]
  },
  {
   "cell_type": "markdown",
   "metadata": {},
   "source": [
    "## 4.2 Pętla while\n"
   ]
  },
  {
   "cell_type": "code",
   "execution_count": 37,
   "metadata": {
    "collapsed": false
   },
   "outputs": [
    {
     "name": "stdout",
     "output_type": "stream",
     "text": [
      "0\n",
      "1\n",
      "2\n",
      "3\n",
      "4\n",
      "5\n",
      "6\n",
      "7\n",
      "8\n",
      "9\n"
     ]
    }
   ],
   "source": [
    "# i to nasz iterator\n",
    "i = 0\n",
    "while i < 10:\n",
    "    print(i)\n",
    "    i += 1"
   ]
  },
  {
   "cell_type": "code",
   "execution_count": 42,
   "metadata": {
    "collapsed": false
   },
   "outputs": [
    {
     "name": "stdout",
     "output_type": "stream",
     "text": [
      "0\n",
      "1\n",
      "2\n",
      "3\n",
      "4\n",
      "5\n",
      "6\n",
      "7\n",
      "8\n",
      "9\n",
      "10\n",
      "11\n"
     ]
    }
   ],
   "source": [
    "for i in range(12):\n",
    "    print(i)"
   ]
  },
  {
   "cell_type": "code",
   "execution_count": 47,
   "metadata": {
    "collapsed": false
   },
   "outputs": [
    {
     "name": "stdout",
     "output_type": "stream",
     "text": [
      "1\n",
      "3\n",
      "5\n"
     ]
    }
   ],
   "source": [
    "for i in range(1, 6, 2):\n",
    "    print(i)"
   ]
  },
  {
   "cell_type": "code",
   "execution_count": 48,
   "metadata": {
    "collapsed": false
   },
   "outputs": [
    {
     "name": "stdout",
     "output_type": "stream",
     "text": [
      "BMW\n",
      "Audi\n",
      "Mercedes\n"
     ]
    }
   ],
   "source": [
    "for element in ['BMW', 'Audi', 'Mercedes']:\n",
    "    print(element)"
   ]
  },
  {
   "cell_type": "code",
   "execution_count": 49,
   "metadata": {
    "collapsed": false
   },
   "outputs": [
    {
     "name": "stdout",
     "output_type": "stream",
     "text": [
      "Tomek\n",
      "Adam\n",
      "Kasia\n"
     ]
    }
   ],
   "source": [
    "garaz_firmy = {'Adam': 'BMW', 'Tomek': 'Audi', 'Kasia': 'Nissan'}\n",
    "\n",
    "for element in garaz_firmy:\n",
    "    print(element)"
   ]
  },
  {
   "cell_type": "code",
   "execution_count": 50,
   "metadata": {
    "collapsed": false
   },
   "outputs": [
    {
     "name": "stdout",
     "output_type": "stream",
     "text": [
      "('Tomek', 'Audi')\n",
      "('Adam', 'BMW')\n",
      "('Kasia', 'Nissan')\n"
     ]
    }
   ],
   "source": [
    "for element in garaz_firmy.items():\n",
    "    print(element)"
   ]
  },
  {
   "cell_type": "code",
   "execution_count": 51,
   "metadata": {
    "collapsed": false
   },
   "outputs": [
    {
     "name": "stdout",
     "output_type": "stream",
     "text": [
      "Jest 3 ujemnych temperatur\n",
      "A ich średnia to: -24.333333333333332\n"
     ]
    }
   ],
   "source": [
    "temperatury = [ 10, 12, 10, -18, 20, 19, -30, -25 ]\n",
    "suma_temperatur = 0\n",
    "ile_ujemnych = 0\n",
    "\n",
    "for temp in temperatury:\n",
    "    if temp < 0:\n",
    "        ile_ujemnych += 1\n",
    "        suma_temperatur += temp\n",
    "        \n",
    "print('Jest {} ujemnych temperatur'.format(ile_ujemnych))\n",
    "print('A ich średnia to: {}'.format(suma_temperatur/ile_ujemnych))\n",
    "    \n"
   ]
  }
 ],
 "metadata": {
  "kernelspec": {
   "display_name": "Python 3",
   "language": "python",
   "name": "python3"
  },
  "language_info": {
   "codemirror_mode": {
    "name": "ipython",
    "version": 3
   },
   "file_extension": ".py",
   "mimetype": "text/x-python",
   "name": "python",
   "nbconvert_exporter": "python",
   "pygments_lexer": "ipython3",
   "version": "3.4.6"
  }
 },
 "nbformat": 4,
 "nbformat_minor": 2
}
