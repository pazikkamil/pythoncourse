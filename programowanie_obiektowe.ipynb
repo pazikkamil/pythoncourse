{
 "cells": [
  {
   "cell_type": "markdown",
   "metadata": {},
   "source": [
    "# Programowanie obiektowe\n",
    "* \"zmapowanie\" abstrakcji w postać kodu\n",
    "* niemusimy mieć wszystkiego zmapowanego, tylko to co używamy. Później dowolnie możemy poszerzać.\n",
    "* W wyniku model rzeczywistości, mimo że klasy mogą być totalnie abstrakcyjne. Np. zamiast klasy samochód możemy mieć klasę FileDownloader, która zajmuje się sciąganiem informacji z internetu.\n",
    "* klasa czlowiek, posiada metody:\n",
    "    * jedz\n",
    "    * pij\n",
    "* posiada atrybuty (pola):\n",
    "    * imie\n",
    "    * nazwisko\n",
    "\n",
    "* Funkcje to metody, a zmienne to atrybuty\n",
    "* Dany obiekt mozemy przypisac do zmiennej\n",
    "* Klasa to abstrakcja (tablon / blueprint)\n",
    "* Jak tworzymy danego czlowieka wiem\n"
   ]
  },
  {
   "cell_type": "markdown",
   "metadata": {},
   "source": [
    "## Definicja klasy"
   ]
  },
  {
   "cell_type": "code",
   "execution_count": 23,
   "metadata": {
    "collapsed": true
   },
   "outputs": [],
   "source": [
    "class Czlowiek():\n",
    "    pass"
   ]
  },
  {
   "cell_type": "code",
   "execution_count": 24,
   "metadata": {
    "collapsed": true
   },
   "outputs": [],
   "source": [
    "class Czlowiek2(object):\n",
    "    pass"
   ]
  },
  {
   "cell_type": "code",
   "execution_count": 25,
   "metadata": {
    "collapsed": false
   },
   "outputs": [
    {
     "data": {
      "text/plain": [
       "True"
      ]
     },
     "execution_count": 25,
     "metadata": {},
     "output_type": "execute_result"
    }
   ],
   "source": [
    "dir(Czlowiek) == dir(Czlowiek2)"
   ]
  },
  {
   "cell_type": "code",
   "execution_count": 26,
   "metadata": {
    "collapsed": false
   },
   "outputs": [
    {
     "name": "stdout",
     "output_type": "stream",
     "text": [
      "Help on class Czlowiek in module __main__:\n",
      "\n",
      "class Czlowiek(builtins.object)\n",
      " |  Data descriptors defined here:\n",
      " |  \n",
      " |  __dict__\n",
      " |      dictionary for instance variables (if defined)\n",
      " |  \n",
      " |  __weakref__\n",
      " |      list of weak references to the object (if defined)\n",
      "\n",
      "Help on class Czlowiek2 in module __main__:\n",
      "\n",
      "class Czlowiek2(builtins.object)\n",
      " |  Data descriptors defined here:\n",
      " |  \n",
      " |  __dict__\n",
      " |      dictionary for instance variables (if defined)\n",
      " |  \n",
      " |  __weakref__\n",
      " |      list of weak references to the object (if defined)\n",
      "\n"
     ]
    }
   ],
   "source": [
    "help(Czlowiek)\n",
    "help(Czlowiek2)"
   ]
  },
  {
   "cell_type": "markdown",
   "metadata": {},
   "source": [
    "* wygląda że to jest to samo"
   ]
  },
  {
   "cell_type": "code",
   "execution_count": 30,
   "metadata": {
    "collapsed": false
   },
   "outputs": [],
   "source": [
    "class Czlowiek():\n",
    "    def przedstaw_sie():\n",
    "        print('Nazywam sie')\n",
    "#     def przedstaw_sie(self):\n",
    "#         print(\"Nazywam sie {}\".format(self.imie)) # w wielu jezykach jest this"
   ]
  },
  {
   "cell_type": "markdown",
   "metadata": {},
   "source": [
    "### Konstruktor"
   ]
  },
  {
   "cell_type": "code",
   "execution_count": 31,
   "metadata": {
    "collapsed": true
   },
   "outputs": [],
   "source": [
    "adam = Czlowiek()"
   ]
  },
  {
   "cell_type": "code",
   "execution_count": 33,
   "metadata": {
    "collapsed": false
   },
   "outputs": [
    {
     "ename": "TypeError",
     "evalue": "przedstaw_sie() takes 0 positional arguments but 1 was given",
     "output_type": "error",
     "traceback": [
      "\u001b[0;31m---------------------------------------------------------------------------\u001b[0m",
      "\u001b[0;31mTypeError\u001b[0m                                 Traceback (most recent call last)",
      "\u001b[0;32m<ipython-input-33-da78d64fecfc>\u001b[0m in \u001b[0;36m<module>\u001b[0;34m()\u001b[0m\n\u001b[0;32m----> 1\u001b[0;31m \u001b[0madam\u001b[0m\u001b[0;34m.\u001b[0m\u001b[0mprzedstaw_sie\u001b[0m\u001b[0;34m(\u001b[0m\u001b[0;34m)\u001b[0m\u001b[0;34m\u001b[0m\u001b[0m\n\u001b[0m",
      "\u001b[0;31mTypeError\u001b[0m: przedstaw_sie() takes 0 positional arguments but 1 was given"
     ]
    }
   ],
   "source": [
    "adam.przedstaw_sie()"
   ]
  },
  {
   "cell_type": "code",
   "execution_count": 36,
   "metadata": {
    "collapsed": true
   },
   "outputs": [],
   "source": [
    "class Czlowiek():\n",
    "    def przedstaw_sie(self):\n",
    "        print('Nazywam sie {}'.format(self.imie))"
   ]
  },
  {
   "cell_type": "code",
   "execution_count": 37,
   "metadata": {
    "collapsed": false
   },
   "outputs": [
    {
     "name": "stdout",
     "output_type": "stream",
     "text": [
      "Nazywam sie Adam\n"
     ]
    }
   ],
   "source": [
    "adam = Czlowiek()\n",
    "adam.imie = 'Adam'\n",
    "\n",
    "adam.przedstaw_sie()"
   ]
  },
  {
   "cell_type": "code",
   "execution_count": 42,
   "metadata": {
    "collapsed": true
   },
   "outputs": [],
   "source": [
    "class Czlowiek():\n",
    "    def __init__(imie, nazwisko):\n",
    "        self.imie = imie\n",
    "        self.nazwisko = nazwisko\n",
    "        \n",
    "    def przedstaw_sie(self):\n",
    "        print('Nazywam sie {}'.format(self.imie))"
   ]
  },
  {
   "cell_type": "code",
   "execution_count": 43,
   "metadata": {
    "collapsed": true
   },
   "outputs": [],
   "source": [
    "class Czlowiek():\n",
    "    def __init__(self, imie, nazwisko):\n",
    "        self.imie = imie\n",
    "        self.nazwisko = nazwisko\n",
    "        \n",
    "    def przedstaw_sie(self):\n",
    "        print('Nazywam sie {}'.format(self.imie))"
   ]
  },
  {
   "cell_type": "code",
   "execution_count": 46,
   "metadata": {
    "collapsed": false
   },
   "outputs": [
    {
     "name": "stdout",
     "output_type": "stream",
     "text": [
      "Nazywam sie Tomek\n"
     ]
    }
   ],
   "source": [
    "tomek = Czlowiek('Tomek', 'Nowak')\n",
    "tomek.przedstaw_sie()"
   ]
  },
  {
   "cell_type": "markdown",
   "metadata": {},
   "source": [
    "## Definicja metody"
   ]
  }
 ],
 "metadata": {
  "kernelspec": {
   "display_name": "Python 3",
   "language": "python",
   "name": "python3"
  },
  "language_info": {
   "codemirror_mode": {
    "name": "ipython",
    "version": 3
   },
   "file_extension": ".py",
   "mimetype": "text/x-python",
   "name": "python",
   "nbconvert_exporter": "python",
   "pygments_lexer": "ipython3",
   "version": "3.4.6"
  }
 },
 "nbformat": 4,
 "nbformat_minor": 2
}
